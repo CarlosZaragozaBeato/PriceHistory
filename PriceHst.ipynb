{
 "cells": [
  {
   "cell_type": "code",
   "execution_count": 2,
   "metadata": {},
   "outputs": [],
   "source": [
    "import http.server\n",
    "import socketserver\n",
    "import socket"
   ]
  },
  {
   "cell_type": "code",
   "execution_count": 10,
   "metadata": {},
   "outputs": [],
   "source": [
    "def Servidor(ip:str, puerto:int, conexionesMax:int):\n",
    "    infoConexion = (ip, puerto)\n",
    "    \n",
    "    socketSrv = socket.socket(socket.AF_INET,socket.SOCK_STREAM)\n",
    "    socketSrv.bind(infoConexion)\n",
    "    socketSrv.listen(conexionesMax)\n",
    "    \n",
    "    print(\"Esperando conexiones en %s:%s\" %(ip, puerto))\n",
    "    cliente, direccion = socketSrv.accept()\n",
    "    print(\"Conexion establecida con %s:%s\" %(direccion[0], direccion[1]))\n",
    "    \n",
    "    \n",
    "    while True:\n",
    "        datos = cliente.recv(1024)\n",
    "        \n",
    "        if datos == \"exit\":\n",
    "            cliente.send(\"exit\")\n",
    "            break\n",
    "        \n",
    "        print(\"Recibido %s\" %datos)\n",
    "        cliente.sendall(\"--RECIBIDO--\")\n",
    "    \n",
    "    print(\"---------CONEXION CERRADA-----------------\")\n",
    "    socketSrv.close()"
   ]
  },
  {
   "cell_type": "code",
   "execution_count": null,
   "metadata": {},
   "outputs": [],
   "source": [
    "def Cliente(ipServidor:str, puertoServidor:int):\n",
    "    cliente = socket.socket(socket.AF_INET, socket.SOCK_STREAM)\n",
    "    cliente.connect(ipServidor, puertoServidor)\n",
    "    \n",
    "    print(\"Conectado con el servidor ----> %s:%s\" %(ipServidor, puertoServidor))\n",
    "    \n",
    "    while True:\n",
    "        msg = input(\"> \")\n",
    "        cliente.send(msg)\n",
    "        respuesta = cliente.recv(4096)\n",
    "        print(respuesta)\n",
    "        if respuesta == \"exit\":\n",
    "            break\n",
    "        \n",
    "    print(\"-----------CONEXION CERRADA--------------\")\n",
    "    cliente.close()"
   ]
  },
  {
   "cell_type": "code",
   "execution_count": 12,
   "metadata": {},
   "outputs": [
    {
     "name": "stdout",
     "output_type": "stream",
     "text": [
      "Esperando conexiones en 127.0.0.1:8080\n"
     ]
    }
   ],
   "source": [
    "Servidor('127.0.0.1', 8080,5)"
   ]
  },
  {
   "cell_type": "code",
   "execution_count": null,
   "metadata": {},
   "outputs": [],
   "source": [
    "Cliente('127.0.0.1',8080)"
   ]
  },
  {
   "cell_type": "code",
   "execution_count": null,
   "metadata": {},
   "outputs": [],
   "source": []
  }
 ],
 "metadata": {
  "kernelspec": {
   "display_name": "base",
   "language": "python",
   "name": "python3"
  },
  "language_info": {
   "codemirror_mode": {
    "name": "ipython",
    "version": 3
   },
   "file_extension": ".py",
   "mimetype": "text/x-python",
   "name": "python",
   "nbconvert_exporter": "python",
   "pygments_lexer": "ipython3",
   "version": "3.9.13"
  },
  "orig_nbformat": 4
 },
 "nbformat": 4,
 "nbformat_minor": 2
}
