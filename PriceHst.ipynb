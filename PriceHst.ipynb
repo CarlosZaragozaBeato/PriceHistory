{
 "cells": [
  {
   "cell_type": "code",
   "execution_count": 2,
   "metadata": {},
   "outputs": [],
   "source": [
    "import http.server\n",
    "import socketserver\n",
    "import socket\n",
    "import requests\n",
    "\n",
    "from selenium import webdriver\n",
    "from selenium.webdriver.common.by import By\n",
    "from selenium.webdriver.support.ui import WebDriverWait\n",
    "from selenium.webdriver.support import expected_conditions as EC\n",
    "from selenium.webdriver.chrome.options import Options\n"
   ]
  },
  {
   "cell_type": "markdown",
   "metadata": {},
   "source": [
    "Parte del Servidor"
   ]
  },
  {
   "cell_type": "code",
   "execution_count": 10,
   "metadata": {},
   "outputs": [],
   "source": [
    "def Servidor(url:str, port:int):\n",
    "    # Crea el socket del servidor\n",
    "    server_socket = socket.socket(socket.AF_INET, socket.SOCK_STREAM)\n",
    "\n",
    "    # Asigna una dirección IP y un puerto al socket del servidor\n",
    "    server_address = ('127.0.0.1', 8085)\n",
    "    server_socket.bind(server_address)\n",
    "\n",
    "    # Escucha conexiones entrantes\n",
    "    server_socket.listen(1)\n",
    "    print('El servidor está listo para recibir solicitudes')\n",
    "\n",
    "\n",
    "    while True:\n",
    "        #Espera a que llegue una solictud\n",
    "        connection, client_address = server_socket.accept()\n",
    "\n",
    "        try:\n",
    "            print(\"Conexión desde\", client_address)\n",
    "\n",
    "            #Recibe los datos de la solicitud\n",
    "            request_data = connection.recv(1024).decode()\n",
    "\n",
    "            #Imprime los datos de la solicitud\n",
    "            print(\"Solicitud recibida: \")\n",
    "            print(request_data)\n",
    "\n",
    "            #Envia una respuesta al cliente\n",
    "            response_data = \"Respuesta del servidor\"\n",
    "            response_headers = 'HTTP/1.1 200 OK\\nContent-Type: text/html\\nContent-Length: {}\\n\\n'.format(len(response_data))\n",
    "            connection.send(response_headers.encode() + response_data.encode())\n",
    "        finally:\n",
    "            # Cierra la conexion \n",
    "            connection.close()"
   ]
  },
  {
   "cell_type": "markdown",
   "metadata": {},
   "source": [
    "Parte del cliente"
   ]
  },
  {
   "cell_type": "code",
   "execution_count": null,
   "metadata": {},
   "outputs": [],
   "source": [
    "def EnviarRespuesta(mensaje:str, url:str):\n",
    "    requests.post(url, mensaje)"
   ]
  },
  {
   "cell_type": "code",
   "execution_count": 16,
   "metadata": {},
   "outputs": [],
   "source": [
    "class Search:\n",
    "\n",
    "    def __init__(self, product_name:str, driver):\n",
    "        self.product_name = product_name\n",
    "        self.driver = driver\n",
    "        self.wait1 = WebDriverWait(self.driver, 10)\n",
    "    \n",
    "    def BuscarProducto(self):\n",
    "        self.driver.get(\"https://es.camelcamelcamel.com/\")\n",
    "\n",
    "        btn_cookies = self.ObtenerXpath('//*[@id=\"qc-cmp2-ui\"]/div[2]/div/button[2]')\n",
    "        btn_cookies.click()\n",
    "\n",
    "        input_search = self.ObtenerXpath('//*[@id=\"sq\"]')\n",
    "        input_search.send_keys(self.product_name)\n",
    "\n",
    "\n",
    "        btn_search = self.ObtenerXpath('//*[@id=\"sqbtn\"]')\n",
    "        btn_search.click()\n",
    "\n",
    "\n",
    "\n",
    "\n",
    "\n",
    "    def ObtenerXpath(self, xPath:str):\n",
    "        return self.wait1.until(EC.presence_of_element_located((\n",
    "                By.XPATH, xPath)))\n",
    "\n"
   ]
  },
  {
   "cell_type": "code",
   "execution_count": 17,
   "metadata": {},
   "outputs": [
    {
     "name": "stderr",
     "output_type": "stream",
     "text": [
      "/tmp/ipykernel_7271/540860223.py:1: DeprecationWarning: executable_path has been deprecated, please pass in a Service object\n",
      "  driver = webdriver.Chrome(\"chromedriver/chromedriver\")\n"
     ]
    }
   ],
   "source": [
    "\n",
    "driver = webdriver.Chrome(\"chromedriver/chromedriver\")\n",
    "\n",
    "buscar = Search(\"Playstation\", driver)\n",
    "\n",
    "buscar.BuscarProducto()\n",
    "\n",
    "\n"
   ]
  },
  {
   "cell_type": "code",
   "execution_count": null,
   "metadata": {},
   "outputs": [],
   "source": []
  }
 ],
 "metadata": {
  "kernelspec": {
   "display_name": "Python 3.8.10 64-bit",
   "language": "python",
   "name": "python3"
  },
  "language_info": {
   "codemirror_mode": {
    "name": "ipython",
    "version": 3
   },
   "file_extension": ".py",
   "mimetype": "text/x-python",
   "name": "python",
   "nbconvert_exporter": "python",
   "pygments_lexer": "ipython3",
   "version": "3.8.10"
  },
  "orig_nbformat": 4,
  "vscode": {
   "interpreter": {
    "hash": "916dbcbb3f70747c44a77c7bcd40155683ae19c65e1c03b4aa3499c5328201f1"
   }
  }
 },
 "nbformat": 4,
 "nbformat_minor": 2
}
