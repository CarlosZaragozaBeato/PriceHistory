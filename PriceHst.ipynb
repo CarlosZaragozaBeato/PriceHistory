{
 "cells": [
  {
   "cell_type": "code",
   "execution_count": 1,
   "metadata": {},
   "outputs": [],
   "source": [
    "import http.server\n",
    "import socketserver\n",
    "import socket\n",
    "import requests\n",
    "import time\n",
    "\n",
    "import mysql.connector\n",
    "\n",
    "\n",
    "from selenium import webdriver\n",
    "from selenium.webdriver.common.by import By\n",
    "from selenium.webdriver.support.ui import WebDriverWait\n",
    "from selenium.webdriver.support import expected_conditions as EC\n",
    "from selenium.webdriver.chrome.options import Options\n",
    "from srv_clc.Cliente import Cliente\n",
    "from srv_clc.Servidor import Servidor\n",
    "\n",
    "import pandas as pd"
   ]
  },
  {
   "attachments": {},
   "cell_type": "markdown",
   "metadata": {},
   "source": [
    "### Class Scrapping"
   ]
  },
  {
   "cell_type": "code",
   "execution_count": 19,
   "metadata": {},
   "outputs": [],
   "source": [
    "class Util:\n",
    "    def __init__(self, driver, product):\n",
    "        self.driver = driver\n",
    "        self.wait1 = WebDriverWait(self.driver, 10)\n",
    "        self.product = product\n",
    "        \n",
    "    \n",
    "    def ObtenerListaElementos(self, xPath:str):\n",
    "        return self.wait1.until(EC.presence_of_all_elements_located((\n",
    "                By.XPATH, xPath)))\n",
    "\n",
    "    def ObtenerListaElementosClassName(self, className:str):\n",
    "        return self.wait1.until(EC.presence_of_all_elements_located((\n",
    "                By.CLASS_NAME, className)))\n",
    "    \n",
    "    def obtenerXpath(self, xPath:str):\n",
    "        return self.wait1.until(EC.presence_of_element_located((\n",
    "                By.XPATH, xPath)))\n",
    "        \n",
    "    def obtenerClassName(self, ClassName):\n",
    "        return self.wait1.until(EC.presence_of_element_located((\n",
    "                By.CLASS_NAME, ClassName)))"
   ]
  },
  {
   "cell_type": "code",
   "execution_count": 23,
   "metadata": {},
   "outputs": [],
   "source": [
    "class Search(Util):\n",
    "    \n",
    "    def BuscarProducto(self):\n",
    "        self.driver.get(\"https://es.camelcamelcamel.com/\")\n",
    "        \n",
    "        time.sleep(1)\n",
    "        \n",
    "        btn_cookies = self.obtenerXpath('//*[@id=\"qc-cmp2-ui\"]/div[2]/div/button[2]')\n",
    "        btn_cookies.click()\n",
    "        \n",
    "        \n",
    "        search_input = self.obtenerXpath('//*[@id=\"sq\"]')\n",
    "        search_input.send_keys(self.product)\n",
    "        \n",
    "        btn_search = self.obtenerXpath('//*[@id=\"sqbtn\"]')\n",
    "        btn_search.click()\n",
    "        \n",
    "        product_title = self.obtenerXpath('//*[@id=\"content\"]/div[3]/div[1]/div[2]/div[1]/p/strong/a')\n",
    "        product_title.click()\n",
    "        \n",
    "        self.InspeccionarProducto()\n",
    "        \n",
    "        \n",
    "        \n",
    "    def InspeccionarProducto(self):\n",
    "        \n",
    "        product_name = self.obtenerXpath('//*[@id=\"content\"]/div[2]/div[2]/div[1]/h2[2]/a').text\n",
    "        \n",
    "        actual_amazon,alto_amazon,bajo_amazon,medio_amazon = self.PrecioAmazon()\n",
    "        actual_tercero, alto_tercero, bajo_tercero, medio_tercero = self.PrecioTercerosNuevo()\n",
    "        actual_seminuevo, alto_seminuevo, bajo_seminuevo, medio_seminuevo = self.PrecioTercerosSeminuevo()\n",
    "        \n",
    "    \n",
    "    def PrecioAmazon(self):\n",
    "        actual_amazon = self.obtenerXpath('//*[@id=\"histories\"]/div[1]/div/div[2]/div/div/table/tbody/tr[1]/td[2]').text\n",
    "        alto_amazon = self.obtenerXpath('//*[@id=\"histories\"]/div[1]/div/div[2]/div/div/table/tbody/tr[2]/td[2]').text\n",
    "        bajo_amazon = self.obtenerXpath('//*[@id=\"histories\"]/div[1]/div/div[2]/div/div/table/tbody/tr[3]/td[2]').text\n",
    "        medio_amazon = self.obtenerXpath('//*[@id=\"histories\"]/div[1]/div/div[2]/div/div/table/tbody/tr[4]/td[2]').text \n",
    "        \n",
    "        return (actual_amazon,alto_amazon,bajo_amazon, medio_amazon)\n",
    "        \n",
    "        \n",
    "    def PrecioTercerosNuevo(self):\n",
    "        actual_tercero = self.obtenerXpath('//*[@id=\"histories\"]/div[2]/div/div[2]/div/div/table/tbody/tr[1]/td[2]').text \n",
    "        alto_tercero = self.obtenerXpath('//*[@id=\"histories\"]/div[2]/div/div[2]/div/div/table/tbody/tr[2]/td[2]').text \n",
    "        bajo_tercero = self.obtenerXpath('//*[@id=\"histories\"]/div[2]/div/div[2]/div/div/table/tbody/tr[3]/td[2]').text \n",
    "        medio_tercero = self.obtenerXpath('//*[@id=\"histories\"]/div[2]/div/div[2]/div/div/table/tbody/tr[3]/td[2]').text \n",
    "        \n",
    "        return (actual_tercero, alto_tercero, bajo_tercero, medio_tercero)\n",
    "    \n",
    "    def PrecioTercerosSeminuevo(self):\n",
    "        actual_seminuevo = self.obtenerXpath('//*[@id=\"histories\"]/div[3]/div/div[2]/div/div/table/tbody/tr[1]/td[2]').text \n",
    "        alto_seminuevo = self.obtenerXpath('//*[@id=\"histories\"]/div[3]/div/div[2]/div/div/table/tbody/tr[2]/td[2]').text \n",
    "        bajo_seminuevo = self.obtenerXpath('//*[@id=\"histories\"]/div[3]/div/div[2]/div/div/table/tbody/tr[3]/td[2]').text \n",
    "        medio_seminuevo = self.obtenerXpath('//*[@id=\"histories\"]/div[3]/div/div[2]/div/div/table/tbody/tr[4]/td[2]').text \n",
    "        \n",
    "        return (actual_seminuevo,alto_seminuevo,bajo_seminuevo,medio_seminuevo)"
   ]
  },
  {
   "cell_type": "code",
   "execution_count": null,
   "metadata": {},
   "outputs": [],
   "source": [
    "class SqlActions:\n",
    "    \n",
    "    def __init__(self):\n",
    "            self.conexion = mysql.connector.connect(\n",
    "            host = '127.0.0.1',\n",
    "            user = 'prueba',\n",
    "            password = '1234',\n",
    "            database = 'bitcoin_history')\n",
    "            \n",
    "            \n",
    "            \n",
    "    def InsertProduct(self,nombre:str,\n",
    "                    act_amazon:str, at_amazon:str, bj_amazon:str, md_amazon:str,\n",
    "                    act_terceros:str, at_terceros:str, bj_terceros:str, md_terceros:str,\n",
    "                    act_seminuevo:str, at_seminuevo:str, bj_seminuevo:str, md_seminuevo:str):\n",
    "        cursor = self.conexion.cursor()\n",
    "        \n",
    "        \n",
    "        insert_query = \"INSERT INTO PRICE_HISTORY (NOMBRE,ACTUAL_AMAZON,ALTO_AMAZON,BAJO_AMAZON,MEDIA_AMAZON,ACTUAL_TERCEROS,ALTO_TERCEROS,BAJO_TERCEROS,MEDIA_TERCEROS,ACTUAL_SEMINUEVO,ALTO_SEMINUEVO_TERCEROS,BAJO_SEMINUEVO_TERCEROS,MEDIA_SEMINUEVO_TERCEROS,FECHA_ACTUALIZADO) VALUES(%s,%s,%s,%s,%s,%s,%s,%s,%s,%s,%s,%s,%s,%s)\"\n",
    "        \n",
    "        \n",
    "        \n",
    "        \n",
    "\n",
    "    def RealizarConsulta(self, consulta:str):\n",
    "        cursor = self.conexion.cursor()\n",
    "        cursor.execute(consulta)\n",
    "        resultado = cursor.fetchall()\n",
    "        \n",
    "        return resultado"
   ]
  },
  {
   "cell_type": "code",
   "execution_count": 24,
   "metadata": {},
   "outputs": [],
   "source": [
    "\n",
    "driver = webdriver.Chrome()\n",
    "driver.maximize_window()\n",
    "\n",
    "buscar = Search(driver,\"Playstation\")\n",
    "\n",
    "buscar.BuscarProducto()\n",
    "\n",
    "driver.quit()\n"
   ]
  },
  {
   "cell_type": "markdown",
   "metadata": {},
   "source": [
    "Parte del Servidor"
   ]
  },
  {
   "cell_type": "code",
   "execution_count": 7,
   "metadata": {},
   "outputs": [
    {
     "ename": "OSError",
     "evalue": "[WinError 10048] Solo se permite un uso de cada dirección de socket (protocolo/dirección de red/puerto)",
     "output_type": "error",
     "traceback": [
      "\u001b[1;31m---------------------------------------------------------------------------\u001b[0m",
      "\u001b[1;31mOSError\u001b[0m                                   Traceback (most recent call last)",
      "Cell \u001b[1;32mIn[7], line 1\u001b[0m\n\u001b[1;32m----> 1\u001b[0m servidor \u001b[39m=\u001b[39m Servidor()\n",
      "File \u001b[1;32mc:\\Users\\carlo\\OneDrive\\Escritorio\\PriceHistory\\srv_clc\\Servidor.py:14\u001b[0m, in \u001b[0;36mServidor.__init__\u001b[1;34m(self)\u001b[0m\n\u001b[0;32m     12\u001b[0m \u001b[39m# Asigna una dirección IP y un puerto al socket del servidor\u001b[39;00m\n\u001b[0;32m     13\u001b[0m \u001b[39mself\u001b[39m\u001b[39m.\u001b[39mserver_address \u001b[39m=\u001b[39m (\u001b[39m'\u001b[39m\u001b[39m127.0.0.1\u001b[39m\u001b[39m'\u001b[39m, \u001b[39m8085\u001b[39m)\n\u001b[1;32m---> 14\u001b[0m \u001b[39mself\u001b[39;49m\u001b[39m.\u001b[39;49mserver_socket\u001b[39m.\u001b[39;49mbind(\u001b[39mself\u001b[39;49m\u001b[39m.\u001b[39;49mserver_address)\n\u001b[0;32m     16\u001b[0m \u001b[39m# Escucha conexiones entrantes\u001b[39;00m\n\u001b[0;32m     17\u001b[0m \u001b[39mself\u001b[39m\u001b[39m.\u001b[39mserver_socket\u001b[39m.\u001b[39mlisten(\u001b[39m1\u001b[39m)\n",
      "\u001b[1;31mOSError\u001b[0m: [WinError 10048] Solo se permite un uso de cada dirección de socket (protocolo/dirección de red/puerto)"
     ]
    }
   ],
   "source": [
    "servidor = Servidor()"
   ]
  },
  {
   "cell_type": "code",
   "execution_count": null,
   "metadata": {},
   "outputs": [],
   "source": [
    "servidor.StartServer()"
   ]
  },
  {
   "cell_type": "markdown",
   "metadata": {},
   "source": [
    "Parte del cliente"
   ]
  },
  {
   "cell_type": "code",
   "execution_count": 1,
   "metadata": {},
   "outputs": [
    {
     "ename": "NameError",
     "evalue": "name 'Cliente' is not defined",
     "output_type": "error",
     "traceback": [
      "\u001b[1;31m---------------------------------------------------------------------------\u001b[0m",
      "\u001b[1;31mNameError\u001b[0m                                 Traceback (most recent call last)",
      "Cell \u001b[1;32mIn[1], line 2\u001b[0m\n\u001b[0;32m      1\u001b[0m url \u001b[39m=\u001b[39m \u001b[39m'\u001b[39m\u001b[39mhttp://127.0.0.1:8085\u001b[39m\u001b[39m'\u001b[39m  \u001b[39m# URL del servidor\u001b[39;00m\n\u001b[1;32m----> 2\u001b[0m cliente \u001b[39m=\u001b[39m Cliente(url)\n",
      "\u001b[1;31mNameError\u001b[0m: name 'Cliente' is not defined"
     ]
    }
   ],
   "source": [
    "url = 'http://127.0.0.1:8085'  # URL del servidor\n",
    "cliente = Cliente(url)"
   ]
  },
  {
   "cell_type": "code",
   "execution_count": null,
   "metadata": {},
   "outputs": [],
   "source": [
    "class SqlActions:\n",
    "    pass"
   ]
  }
 ],
 "metadata": {
  "kernelspec": {
   "display_name": "Python 3.8.10 64-bit",
   "language": "python",
   "name": "python3"
  },
  "language_info": {
   "codemirror_mode": {
    "name": "ipython",
    "version": 3
   },
   "file_extension": ".py",
   "mimetype": "text/x-python",
   "name": "python",
   "nbconvert_exporter": "python",
   "pygments_lexer": "ipython3",
   "version": "3.11.2"
  },
  "orig_nbformat": 4,
  "vscode": {
   "interpreter": {
    "hash": "916dbcbb3f70747c44a77c7bcd40155683ae19c65e1c03b4aa3499c5328201f1"
   }
  }
 },
 "nbformat": 4,
 "nbformat_minor": 2
}
